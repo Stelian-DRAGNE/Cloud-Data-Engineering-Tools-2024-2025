{
 "cells": [
  {
   "cell_type": "code",
   "execution_count": null,
   "id": "3c71fd41",
   "metadata": {},
   "outputs": [],
   "source": [
    "from selenium import webdriver\n",
    "from selenium.webdriver.common.by import By"
   ]
  },
  {
   "cell_type": "code",
   "execution_count": null,
   "id": "43a670fb",
   "metadata": {},
   "outputs": [],
   "source": [
    "browser = webdriver.Chrome()\n",
    "\n",
    "URL = \"https://flatuicolors.com/\"\n",
    "browser.get(URL)"
   ]
  },
  {
   "cell_type": "code",
   "execution_count": null,
   "id": "15c9f47d",
   "metadata": {},
   "outputs": [],
   "source": [
    "browser.fullscreen_window()"
   ]
  },
  {
   "cell_type": "code",
   "execution_count": null,
   "id": "828ee7b6",
   "metadata": {},
   "outputs": [],
   "source": [
    "name_divs = browser.find_elements(By.CLASS_NAME, \"name\")\n",
    "len(name_divs)"
   ]
  },
  {
   "cell_type": "code",
   "execution_count": null,
   "id": "7a3677c3",
   "metadata": {},
   "outputs": [],
   "source": [
    "aussie_divs = [ div for div in name_divs if  \"Aussie\" in div.text]\n",
    "len(aussie_divs)"
   ]
  },
  {
   "cell_type": "code",
   "execution_count": null,
   "id": "6f01c319",
   "metadata": {},
   "outputs": [],
   "source": [
    "aussie_divs[0].click()"
   ]
  },
  {
   "cell_type": "code",
   "execution_count": null,
   "id": "fb6834da",
   "metadata": {},
   "outputs": [],
   "source": [
    "color_divs = browser.find_elements(By.CLASS_NAME, \"color\")\n",
    "len(color_divs)"
   ]
  },
  {
   "cell_type": "code",
   "execution_count": null,
   "id": "4f7fda0a",
   "metadata": {},
   "outputs": [],
   "source": [
    "from selenium.common import exceptions  \n",
    "\n",
    "\n",
    "filtered_divs = []\n",
    "search_term = \"Heliotrope\".title()\n",
    "print(search_term)\n",
    "for div in color_divs:\n",
    "    try:\n",
    "        inner_span = div.find_element(By.TAG_NAME, \"span\")\n",
    "        print(inner_span)\n",
    "        if search_term in inner_span.text.title():\n",
    "            filtered_divs.append(div)\n",
    "    except exceptions.StaleElementReferenceException as e:\n",
    "        print(e)\n",
    "        pass\n",
    "\n",
    "filtered_divs\n"
   ]
  },
  {
   "cell_type": "code",
   "execution_count": null,
   "id": "0afc40c1",
   "metadata": {},
   "outputs": [],
   "source": [
    "\n",
    "filtered_divs = []\n",
    "search_term = \"Heliotrope\".title()\n",
    "print(search_term)\n",
    "for div in color_divs:\n",
    "    try:\n",
    "        inner_span = div.find_element(By.TAG_NAME, \"span\")\n",
    "        print(inner_span)\n",
    "        if search_term in inner_span.text.title():\n",
    "            filtered_divs.append(div)\n",
    "    except exceptions.StaleElementReferenceException as e:\n",
    "        print(e)\n",
    "        pass\n",
    "\n",
    "filtered_divs"
   ]
  },
  {
   "cell_type": "code",
   "execution_count": null,
   "id": "0c278a1d",
   "metadata": {},
   "outputs": [],
   "source": [
    "search_term = \"Blurple\".title()\n",
    "print(search_term)\n",
    "# helio_divs = [div for div in color_divs if search_term in div.text.title()]\n",
    "# len(helio_divs)"
   ]
  },
  {
   "cell_type": "code",
   "execution_count": null,
   "id": "dcca2746",
   "metadata": {},
   "outputs": [],
   "source": [
    "search_term  = \"Heliotrope\"\n",
    "\n",
    "helio_divs = [div for div in color_divs if search_term in div.get_attribute(\"innerHTML\")]"
   ]
  },
  {
   "cell_type": "code",
   "execution_count": null,
   "id": "e932877a",
   "metadata": {},
   "outputs": [],
   "source": [
    "[div.get_property(\"innerHTML\") for div in color_divs ]"
   ]
  },
  {
   "cell_type": "code",
   "execution_count": null,
   "id": "a7f11793",
   "metadata": {},
   "outputs": [],
   "source": [
    "helio_divs[0].click()"
   ]
  },
  {
   "cell_type": "code",
   "execution_count": null,
   "id": "57fbaf09",
   "metadata": {},
   "outputs": [],
   "source": [
    "browser.quit()"
   ]
  }
 ],
 "metadata": {
  "kernelspec": {
   "display_name": "Python 3",
   "language": "python",
   "name": "python3"
  },
  "language_info": {
   "codemirror_mode": {
    "name": "ipython",
    "version": 3
   },
   "file_extension": ".py",
   "mimetype": "text/x-python",
   "name": "python",
   "nbconvert_exporter": "python",
   "pygments_lexer": "ipython3",
   "version": "3.13.5"
  }
 },
 "nbformat": 4,
 "nbformat_minor": 5
}
