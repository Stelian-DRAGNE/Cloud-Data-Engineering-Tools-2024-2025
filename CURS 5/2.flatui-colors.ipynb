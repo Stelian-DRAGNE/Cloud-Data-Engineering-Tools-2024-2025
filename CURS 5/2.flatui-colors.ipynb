{
 "cells": [
  {
   "cell_type": "code",
   "execution_count": 1,
   "id": "fddf6727",
   "metadata": {},
   "outputs": [],
   "source": [
    "from selenium import webdriver\n",
    "from selenium.webdriver.common.by import By"
   ]
  },
  {
   "cell_type": "code",
   "execution_count": 2,
   "id": "d176d204",
   "metadata": {},
   "outputs": [],
   "source": [
    "browser = webdriver.Chrome()\n",
    "\n",
    "URL = \"https://flatuicolors.com/\"\n",
    "browser.get(URL)"
   ]
  },
  {
   "cell_type": "code",
   "execution_count": 3,
   "id": "66269e0a",
   "metadata": {},
   "outputs": [],
   "source": [
    "browser.fullscreen_window()"
   ]
  },
  {
   "cell_type": "code",
   "execution_count": 4,
   "id": "b82e9716",
   "metadata": {},
   "outputs": [
    {
     "data": {
      "text/plain": [
       "14"
      ]
     },
     "execution_count": 4,
     "metadata": {},
     "output_type": "execute_result"
    }
   ],
   "source": [
    "name_divs = browser.find_elements(By.CLASS_NAME, \"name\")\n",
    "len(name_divs)"
   ]
  },
  {
   "cell_type": "code",
   "execution_count": 5,
   "id": "8a01b861",
   "metadata": {},
   "outputs": [],
   "source": [
    "aussie_divs = [ div for div in name_divs if  \"Aussie\" in div.text]\n",
    "len(aussie_divs)\n",
    "aussie_divs[0].click()\n"
   ]
  },
  {
   "cell_type": "code",
   "execution_count": 6,
   "id": "dad6c472",
   "metadata": {},
   "outputs": [
    {
     "data": {
      "text/plain": [
       "20"
      ]
     },
     "execution_count": 6,
     "metadata": {},
     "output_type": "execute_result"
    }
   ],
   "source": [
    "color_divs = browser.find_elements(By.CLASS_NAME, \"color\")\n",
    "len(color_divs)"
   ]
  },
  {
   "cell_type": "code",
   "execution_count": 7,
   "id": "0998b103",
   "metadata": {},
   "outputs": [
    {
     "data": {
      "text/plain": [
       "0"
      ]
     },
     "execution_count": 7,
     "metadata": {},
     "output_type": "execute_result"
    }
   ],
   "source": [
    "helio_divs = [div for div in color_divs if \"Heliotrope\" in div.text]\n",
    "len(helio_divs)"
   ]
  },
  {
   "cell_type": "code",
   "execution_count": 8,
   "id": "cc7e6079",
   "metadata": {},
   "outputs": [
    {
     "data": {
      "text/plain": [
       "1"
      ]
     },
     "execution_count": 8,
     "metadata": {},
     "output_type": "execute_result"
    }
   ],
   "source": [
    "helio_divs = [div for div in color_divs if \"Heliotrope\" in div.find_element(By.TAG_NAME, \"span\").text.title()]\n",
    "len(helio_divs)"
   ]
  },
  {
   "cell_type": "code",
   "execution_count": 9,
   "id": "0a872721",
   "metadata": {},
   "outputs": [
    {
     "data": {
      "text/plain": [
       "1"
      ]
     },
     "execution_count": 9,
     "metadata": {},
     "output_type": "execute_result"
    }
   ],
   "source": [
    "helio_divs = [div for div in color_divs if \"Blurple\" in div.find_element(By.TAG_NAME, \"span\").text.title()]\n",
    "len(helio_divs)"
   ]
  },
  {
   "cell_type": "code",
   "execution_count": 16,
   "id": "5c054ebd",
   "metadata": {},
   "outputs": [],
   "source": [
    "helio_divs[0].click()"
   ]
  },
  {
   "cell_type": "code",
   "execution_count": 17,
   "id": "09301da2",
   "metadata": {},
   "outputs": [],
   "source": [
    "import pyperclip\n"
   ]
  },
  {
   "cell_type": "code",
   "execution_count": 18,
   "id": "d0325d8e",
   "metadata": {},
   "outputs": [
    {
     "data": {
      "text/plain": [
       "'#4834d4'"
      ]
     },
     "execution_count": 18,
     "metadata": {},
     "output_type": "execute_result"
    }
   ],
   "source": [
    "pyperclip.paste()"
   ]
  }
 ],
 "metadata": {
  "kernelspec": {
   "display_name": "Python 3",
   "language": "python",
   "name": "python3"
  },
  "language_info": {
   "codemirror_mode": {
    "name": "ipython",
    "version": 3
   },
   "file_extension": ".py",
   "mimetype": "text/x-python",
   "name": "python",
   "nbconvert_exporter": "python",
   "pygments_lexer": "ipython3",
   "version": "3.13.5"
  }
 },
 "nbformat": 4,
 "nbformat_minor": 5
}
