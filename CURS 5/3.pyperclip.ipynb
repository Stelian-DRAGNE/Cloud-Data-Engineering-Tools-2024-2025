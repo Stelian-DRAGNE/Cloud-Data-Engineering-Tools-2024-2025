{
 "cells": [
  {
   "cell_type": "markdown",
   "id": "72dfb599",
   "metadata": {},
   "source": [
    "# pip install pyperclip"
   ]
  },
  {
   "cell_type": "code",
   "execution_count": 1,
   "id": "05d0589f",
   "metadata": {},
   "outputs": [],
   "source": [
    "import pyperclip"
   ]
  },
  {
   "cell_type": "code",
   "execution_count": 3,
   "id": "8bdb7369",
   "metadata": {},
   "outputs": [
    {
     "name": "stdout",
     "output_type": "stream",
     "text": [
      "Hello, world!\n"
     ]
    }
   ],
   "source": [
    "print(pyperclip.paste())  # This will print the current clipboard content"
   ]
  }
 ],
 "metadata": {
  "kernelspec": {
   "display_name": "Python 3",
   "language": "python",
   "name": "python3"
  },
  "language_info": {
   "codemirror_mode": {
    "name": "ipython",
    "version": 3
   },
   "file_extension": ".py",
   "mimetype": "text/x-python",
   "name": "python",
   "nbconvert_exporter": "python",
   "pygments_lexer": "ipython3",
   "version": "3.13.5"
  }
 },
 "nbformat": 4,
 "nbformat_minor": 5
}
