{
 "cells": [
  {
   "cell_type": "code",
   "execution_count": 5,
   "id": "0c623cd8",
   "metadata": {},
   "outputs": [],
   "source": [
    "palette = \"Canadian\"\n",
    "searched_color = \"Casandora Yellow\""
   ]
  },
  {
   "cell_type": "code",
   "execution_count": 6,
   "id": "d8af6a06",
   "metadata": {},
   "outputs": [],
   "source": [
    "from selenium import webdriver\n",
    "from selenium.webdriver.common.by import By\n",
    "import pyperclip\n",
    "\n",
    "\n",
    "browser = webdriver.Chrome()\n",
    "\n",
    "URL = \"https://flatuicolors.com/\"\n",
    "browser.get(URL)\n",
    "\n",
    "name_divs = browser.find_elements(By.CLASS_NAME, \"name\")\n",
    "len(name_divs)\n",
    "\n",
    "palette_divs = [ div for div in name_divs if  palette in div.text]\n",
    "len(palette_divs)\n",
    "palette_divs[0].click()\n",
    "\n"
   ]
  },
  {
   "cell_type": "code",
   "execution_count": 14,
   "id": "ead1c541",
   "metadata": {},
   "outputs": [
    {
     "name": "stdout",
     "output_type": "stream",
     "text": [
      "#feca57\n"
     ]
    }
   ],
   "source": [
    "color_divs = browser.find_elements(By.CLASS_NAME, \"color\")\n",
    "len(color_divs)\n",
    "\n",
    "helio_divs = [ div for div in color_divs if searched_color in div.find_element(By.TAG_NAME, \"span\").text.title() ]\n",
    "len(helio_divs)\n",
    "\n",
    "helio_divs[0].click()\n",
    "\n",
    "print(pyperclip.paste())"
   ]
  },
  {
   "cell_type": "code",
   "execution_count": 15,
   "id": "7b750e99",
   "metadata": {},
   "outputs": [
    {
     "name": "stdout",
     "output_type": "stream",
     "text": [
      "#feca57\n"
     ]
    }
   ],
   "source": [
    "print(pyperclip.paste())"
   ]
  }
 ],
 "metadata": {
  "kernelspec": {
   "display_name": "Python 3",
   "language": "python",
   "name": "python3"
  },
  "language_info": {
   "codemirror_mode": {
    "name": "ipython",
    "version": 3
   },
   "file_extension": ".py",
   "mimetype": "text/x-python",
   "name": "python",
   "nbconvert_exporter": "python",
   "pygments_lexer": "ipython3",
   "version": "3.13.5"
  }
 },
 "nbformat": 4,
 "nbformat_minor": 5
}
