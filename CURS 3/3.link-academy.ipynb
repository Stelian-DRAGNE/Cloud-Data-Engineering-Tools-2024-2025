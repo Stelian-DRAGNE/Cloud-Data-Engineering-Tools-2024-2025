{
 "cells": [
  {
   "cell_type": "code",
   "execution_count": null,
   "id": "58fa8b92",
   "metadata": {},
   "outputs": [],
   "source": [
    "from selenium import webdriver\n",
    "from selenium.webdriver.common.by import By\n",
    "import time"
   ]
  },
  {
   "cell_type": "code",
   "execution_count": null,
   "id": "47036fe6",
   "metadata": {},
   "outputs": [],
   "source": [
    "URL = \"https://link-academy.com/\"\n",
    "driver = webdriver.Chrome()\n",
    "driver.get(URL)"
   ]
  },
  {
   "cell_type": "code",
   "execution_count": null,
   "id": "65301861",
   "metadata": {},
   "outputs": [],
   "source": [
    "COOKIE_BUTTON_ID = \"politikaOK\"\n",
    "cookie_button = driver.find_element(By.ID, COOKIE_BUTTON_ID)\n",
    "cookie_button.click()"
   ]
  },
  {
   "cell_type": "code",
   "execution_count": null,
   "id": "bc84bc3e",
   "metadata": {},
   "outputs": [],
   "source": [
    "programe_XPATH = '//*[@id=\"navLeft\"]/ul/li[2]/a'\n",
    "programe_FULL_XPATH = '/html/body/div[1]/nav/div[3]/ul/li[2]/a'"
   ]
  },
  {
   "cell_type": "code",
   "execution_count": null,
   "id": "a1f43d9f",
   "metadata": {},
   "outputs": [],
   "source": [
    "driver.find_element(By.XPATH, programe_XPATH).click()"
   ]
  },
  {
   "cell_type": "code",
   "execution_count": null,
   "id": "4bc542eb",
   "metadata": {},
   "outputs": [],
   "source": [
    "try:\n",
    "    driver.find_element(By.ID, \"zatvori\").click()\n",
    "except:\n",
    "    pass"
   ]
  },
  {
   "cell_type": "code",
   "execution_count": null,
   "id": "684cfd53",
   "metadata": {},
   "outputs": [],
   "source": [
    "AI_PYTHON_XPATH = '//*[@id=\"sidebarNav\"]/div/div[2]/a[1]'\n",
    "driver.find_element(By.XPATH, AI_PYTHON_XPATH).click()"
   ]
  },
  {
   "cell_type": "code",
   "execution_count": null,
   "id": "cf22585e",
   "metadata": {},
   "outputs": [],
   "source": [
    "driver.find_element(By.XPATH,'//*[@id=\"content\"]/table[1]/tbody/tr[2]/td[3]/a').click()"
   ]
  },
  {
   "cell_type": "code",
   "execution_count": null,
   "id": "c8657026",
   "metadata": {},
   "outputs": [],
   "source": [
    "driver.quit()"
   ]
  }
 ],
 "metadata": {
  "kernelspec": {
   "display_name": "Python 3",
   "language": "python",
   "name": "python3"
  },
  "language_info": {
   "codemirror_mode": {
    "name": "ipython",
    "version": 3
   },
   "file_extension": ".py",
   "mimetype": "text/x-python",
   "name": "python",
   "nbconvert_exporter": "python",
   "pygments_lexer": "ipython3",
   "version": "3.13.5"
  }
 },
 "nbformat": 4,
 "nbformat_minor": 5
}
