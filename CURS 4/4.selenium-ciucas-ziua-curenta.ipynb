{
 "cells": [
  {
   "cell_type": "code",
   "execution_count": null,
   "id": "c4662e0a",
   "metadata": {},
   "outputs": [],
   "source": [
    "from selenium import webdriver\n",
    "from selenium.webdriver.common.by import By\n",
    "from datetime import datetime\n",
    "import time"
   ]
  },
  {
   "cell_type": "code",
   "execution_count": null,
   "id": "fbc072c2",
   "metadata": {},
   "outputs": [],
   "source": [
    "browser = webdriver.Chrome()\n",
    "browser.get(\"https://www.bereciucas.ro/\")"
   ]
  },
  {
   "cell_type": "code",
   "execution_count": null,
   "id": "e2db210e",
   "metadata": {},
   "outputs": [],
   "source": [
    "browser.find_element(By.ID, \"CybotCookiebotDialogBodyLevelButtonLevelOptinAllowAll\").click()"
   ]
  },
  {
   "cell_type": "code",
   "execution_count": null,
   "id": "44ebe6c1",
   "metadata": {},
   "outputs": [],
   "source": [
    "today = datetime.now()"
   ]
  },
  {
   "cell_type": "code",
   "execution_count": null,
   "id": "2e447bed",
   "metadata": {},
   "outputs": [],
   "source": [
    "today.year"
   ]
  },
  {
   "cell_type": "code",
   "execution_count": null,
   "id": "635eacd7",
   "metadata": {},
   "outputs": [],
   "source": [
    "today.month"
   ]
  },
  {
   "cell_type": "code",
   "execution_count": null,
   "id": "a9bf9d3b",
   "metadata": {},
   "outputs": [],
   "source": [
    "today.day"
   ]
  },
  {
   "cell_type": "code",
   "execution_count": null,
   "id": "425f6b3e",
   "metadata": {},
   "outputs": [],
   "source": [
    "MONTH = str(today.month).zfill(2)\n",
    "MONTH"
   ]
  },
  {
   "cell_type": "code",
   "execution_count": null,
   "id": "ce40e3ac",
   "metadata": {},
   "outputs": [],
   "source": [
    "DAY = str(today.day).zfill(2)\n",
    "DAY"
   ]
  },
  {
   "cell_type": "code",
   "execution_count": null,
   "id": "8ce68675",
   "metadata": {},
   "outputs": [],
   "source": [
    "YEAR = str(today.year - 18)\n",
    "MONTH = str(today.month)\n",
    "for i, ch in enumerate(YEAR, start = 1):\n",
    "    time.sleep(0.5)\n",
    "    browser.find_element(By.NAME, f\"year_{i}\").send_keys(ch)"
   ]
  },
  {
   "cell_type": "code",
   "execution_count": null,
   "id": "fa1d33bb",
   "metadata": {},
   "outputs": [],
   "source": []
  },
  {
   "cell_type": "code",
   "execution_count": null,
   "id": "02a2a763",
   "metadata": {},
   "outputs": [],
   "source": [
    "browser.find_element(By.NAME, f\"month\").send_keys(MONTH)"
   ]
  },
  {
   "cell_type": "code",
   "execution_count": null,
   "id": "e03ad1e0",
   "metadata": {},
   "outputs": [],
   "source": [
    "browser.find_element(By.NAME, f\"day\").send_keys(DAY)"
   ]
  },
  {
   "cell_type": "code",
   "execution_count": null,
   "id": "8131ee84",
   "metadata": {},
   "outputs": [],
   "source": [
    "# browser.quit()"
   ]
  }
 ],
 "metadata": {
  "kernelspec": {
   "display_name": "Python 3",
   "language": "python",
   "name": "python3"
  },
  "language_info": {
   "codemirror_mode": {
    "name": "ipython",
    "version": 3
   },
   "file_extension": ".py",
   "mimetype": "text/x-python",
   "name": "python",
   "nbconvert_exporter": "python",
   "pygments_lexer": "ipython3",
   "version": "3.13.5"
  }
 },
 "nbformat": 4,
 "nbformat_minor": 5
}
