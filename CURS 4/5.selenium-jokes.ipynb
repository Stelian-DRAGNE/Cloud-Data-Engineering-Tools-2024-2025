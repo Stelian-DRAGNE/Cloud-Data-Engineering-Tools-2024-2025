{
 "cells": [
  {
   "cell_type": "code",
   "execution_count": 1,
   "id": "66f319c1",
   "metadata": {},
   "outputs": [],
   "source": [
    "from selenium import webdriver\n",
    "from selenium.webdriver.common.by import By\n",
    "from datetime import datetime\n",
    "import time"
   ]
  },
  {
   "cell_type": "code",
   "execution_count": 2,
   "id": "d347a546",
   "metadata": {},
   "outputs": [],
   "source": [
    "browser = webdriver.Chrome()\n",
    "browser.get(\"https://icanhazdadjoke.com/\")"
   ]
  },
  {
   "cell_type": "code",
   "execution_count": 3,
   "id": "4bf4ae83",
   "metadata": {},
   "outputs": [],
   "source": [
    "browser.find_element(By.XPATH, \"/html/body/div/div[2]/div[2]/div[2]/div[2]/button[1]/p\").click()"
   ]
  },
  {
   "cell_type": "code",
   "execution_count": 10,
   "id": "3daa7904",
   "metadata": {},
   "outputs": [],
   "source": [
    "XPATH = \"/html/body/section/div/div[2]/div/div/p\"\n",
    "\n",
    "for i in range(3):\n",
    "    joke_text = browser.find_element(By.XPATH, XPATH).text\n",
    "\n",
    "    with open(\"jokes.text\", \"a\") as fwritter:\n",
    "        fwritter.write(\"\\n\")\n",
    "        fwritter.write(joke_text)\n",
    "\n",
    "    browser.find_element(By.CSS_SELECTOR, '.button.is-primary.level-item').click()"
   ]
  },
  {
   "cell_type": "code",
   "execution_count": null,
   "id": "81a1f9f9",
   "metadata": {},
   "outputs": [],
   "source": []
  }
 ],
 "metadata": {
  "kernelspec": {
   "display_name": "Python 3",
   "language": "python",
   "name": "python3"
  },
  "language_info": {
   "codemirror_mode": {
    "name": "ipython",
    "version": 3
   },
   "file_extension": ".py",
   "mimetype": "text/x-python",
   "name": "python",
   "nbconvert_exporter": "python",
   "pygments_lexer": "ipython3",
   "version": "3.13.5"
  }
 },
 "nbformat": 4,
 "nbformat_minor": 5
}
