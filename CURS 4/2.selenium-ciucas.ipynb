{
 "cells": [
  {
   "cell_type": "code",
   "execution_count": 1,
   "id": "01262819",
   "metadata": {},
   "outputs": [],
   "source": [
    "from selenium import webdriver\n",
    "from selenium.webdriver.common.by import By"
   ]
  },
  {
   "cell_type": "code",
   "execution_count": 2,
   "id": "d469df67",
   "metadata": {},
   "outputs": [],
   "source": [
    "browser = webdriver.Chrome()\n",
    "browser.get(\"https://www.bereciucas.ro/\")"
   ]
  },
  {
   "cell_type": "code",
   "execution_count": 3,
   "id": "a0ed6a67",
   "metadata": {},
   "outputs": [],
   "source": [
    "browser.find_element(By.ID, \"CybotCookiebotDialogBodyLevelButtonLevelOptinAllowAll\").click()"
   ]
  },
  {
   "cell_type": "code",
   "execution_count": 4,
   "id": "eba5284a",
   "metadata": {},
   "outputs": [],
   "source": [
    "browser.find_element(By.XPATH, '//*[@id=\"ageCheckForm\"]/input[1]').send_keys(\"1\")"
   ]
  },
  {
   "cell_type": "code",
   "execution_count": 7,
   "id": "4062a843",
   "metadata": {},
   "outputs": [],
   "source": [
    "browser.find_elements(By.CLASS_NAME, \"year-char\")[0].send_keys(\"2\")"
   ]
  },
  {
   "cell_type": "code",
   "execution_count": 6,
   "id": "743b3b2f",
   "metadata": {},
   "outputs": [
    {
     "data": {
      "text/plain": [
       "[<selenium.webdriver.remote.webelement.WebElement (session=\"4732f04e56bbd5dea16280bc1de7077f\", element=\"f.0008158025929B995EFB67D4C00ADF8D.d.8966156AF7C5AA60E37EE20BCB2F55CE.e.66\")>]"
      ]
     },
     "execution_count": 6,
     "metadata": {},
     "output_type": "execute_result"
    }
   ],
   "source": [
    "browser.find_elements(By.CLASS_NAME, \"year_3\")"
   ]
  },
  {
   "cell_type": "code",
   "execution_count": 10,
   "id": "51500120",
   "metadata": {},
   "outputs": [],
   "source": [
    "browser.find_element(By.NAME, \"year_3\").send_keys(\"9\")"
   ]
  },
  {
   "cell_type": "code",
   "execution_count": 11,
   "id": "db04636d",
   "metadata": {},
   "outputs": [],
   "source": [
    "browser.find_element(By.CSS_SELECTOR, \".year-char.year_4\").send_keys(\"0\")"
   ]
  },
  {
   "cell_type": "code",
   "execution_count": 12,
   "id": "0a15aa00",
   "metadata": {},
   "outputs": [],
   "source": [
    "browser.quit()"
   ]
  }
 ],
 "metadata": {
  "kernelspec": {
   "display_name": "Python 3",
   "language": "python",
   "name": "python3"
  },
  "language_info": {
   "codemirror_mode": {
    "name": "ipython",
    "version": 3
   },
   "file_extension": ".py",
   "mimetype": "text/x-python",
   "name": "python",
   "nbconvert_exporter": "python",
   "pygments_lexer": "ipython3",
   "version": "3.13.5"
  }
 },
 "nbformat": 4,
 "nbformat_minor": 5
}
