{
 "cells": [
  {
   "cell_type": "code",
   "execution_count": null,
   "id": "34d8e7dc",
   "metadata": {},
   "outputs": [],
   "source": [
    "from selenium import webdriver\n",
    "from selenium.webdriver.common.by import By\n",
    "from datetime import datetime\n",
    "import time"
   ]
  },
  {
   "cell_type": "code",
   "execution_count": null,
   "id": "3c919023",
   "metadata": {},
   "outputs": [],
   "source": [
    "browser = webdriver.Chrome()\n",
    "browser.get(\"https://wordplay.com/\")"
   ]
  },
  {
   "cell_type": "code",
   "execution_count": null,
   "id": "528e2fb3",
   "metadata": {},
   "outputs": [],
   "source": [
    "XPATH_Q = '//*[@id=\"__next\"]/div[1]/div[1]/div/div[2]/div/div/div[1]/button[1]'\n",
    "XPATH_A = '//*[@id=\"__next\"]/div[1]/div[1]/div/div[2]/div/div/div[2]/button[1]'\n",
    "XPATH_S = '//*[@id=\"__next\"]/div[1]/div[1]/div/div[2]/div/div/div[2]/button[2]'"
   ]
  },
  {
   "cell_type": "code",
   "execution_count": null,
   "id": "9e77f399",
   "metadata": {},
   "outputs": [],
   "source": [
    "rand = 2\n",
    "linia = 4\n",
    "XPATH_GENERIC = f'//*[@id=\"__next\"]/div[1]/div[1]/div/div[2]/div/div/div[{rand}]/button[{linia}]'\n",
    "\n",
    "browser.find_element(By.XPATH, XPATH_GENERIC).click()"
   ]
  },
  {
   "cell_type": "code",
   "execution_count": null,
   "id": "21e0a74e",
   "metadata": {},
   "outputs": [],
   "source": [
    "TASTATURA = ['qwertyuiop', 'asdfghjkl', ' zxcvbnm']\n",
    "\n",
    "def rand_linie(litera):\n",
    "    for count, rand in enumerate(TASTATURA):\n",
    "        if litera in rand:\n",
    "            r = count\n",
    "            l = rand.index(litera)\n",
    "            return (r + 1, l + 1)\n",
    "\n",
    "def xpath_pt(litera):\n",
    "    rand, linia = rand_linie(litera)\n",
    "    return f'//*[@id=\"__next\"]/div[1]/div[1]/div/div[2]/div/div/div[{rand}]/button[{linia}]'\n",
    "\n",
    "def press_enter():\n",
    "    ENTER = f'//*[@id=\"__next\"]/div[1]/div[1]/div/div[2]/div/div/div[3]/button[1]'\n",
    "    browser.find_element(By.XPATH, ENTER).click()"
   ]
  },
  {
   "cell_type": "code",
   "execution_count": null,
   "id": "96633e7c",
   "metadata": {},
   "outputs": [],
   "source": [
    "rand_linie(\"k\")"
   ]
  },
  {
   "cell_type": "code",
   "execution_count": null,
   "id": "7250780c",
   "metadata": {},
   "outputs": [],
   "source": [
    "time.sleep(2)\n",
    "cuvinte = [\"audio\", \"stern\", \"glyph\"]\n",
    "\n",
    "for cuv in cuvinte:\n",
    "    for ch in cuv:\n",
    "        browser.find_element(By.XPATH, xpath_pt(ch)).click()\n",
    "    press_enter()\n"
   ]
  }
 ],
 "metadata": {
  "kernelspec": {
   "display_name": "Python 3",
   "language": "python",
   "name": "python3"
  },
  "language_info": {
   "codemirror_mode": {
    "name": "ipython",
    "version": 3
   },
   "file_extension": ".py",
   "mimetype": "text/x-python",
   "name": "python",
   "nbconvert_exporter": "python",
   "pygments_lexer": "ipython3",
   "version": "3.13.5"
  }
 },
 "nbformat": 4,
 "nbformat_minor": 5
}
