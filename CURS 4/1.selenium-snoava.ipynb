{
 "cells": [
  {
   "cell_type": "code",
   "execution_count": 1,
   "id": "5adc393e",
   "metadata": {},
   "outputs": [],
   "source": [
    "from selenium import webdriver\n",
    "from selenium.webdriver.common.by import By"
   ]
  },
  {
   "cell_type": "code",
   "execution_count": 2,
   "id": "0dd22863",
   "metadata": {},
   "outputs": [],
   "source": [
    "URL = \"https://techy-api.vercel.app/api/text\"\n",
    "browser = webdriver.Chrome()\n",
    "browser.get(URL)"
   ]
  },
  {
   "cell_type": "code",
   "execution_count": 3,
   "id": "f021dc2d",
   "metadata": {},
   "outputs": [
    {
     "data": {
      "text/plain": [
       "'Make sure to set the parameters for storage storage'"
      ]
     },
     "execution_count": 3,
     "metadata": {},
     "output_type": "execute_result"
    }
   ],
   "source": [
    "browser.find_element(By.XPATH, \"/html/body\").text"
   ]
  },
  {
   "cell_type": "code",
   "execution_count": 4,
   "id": "60f22c7b",
   "metadata": {},
   "outputs": [
    {
     "data": {
      "text/plain": [
       "'Make sure to set the parameters for storage storage'"
      ]
     },
     "execution_count": 4,
     "metadata": {},
     "output_type": "execute_result"
    }
   ],
   "source": [
    "browser.find_element(By.TAG_NAME, \"body\").text"
   ]
  },
  {
   "cell_type": "code",
   "execution_count": 5,
   "id": "02d5af28",
   "metadata": {},
   "outputs": [
    {
     "data": {
      "text/plain": [
       "'Make sure to set the parameters for storage storage'"
      ]
     },
     "execution_count": 5,
     "metadata": {},
     "output_type": "execute_result"
    }
   ],
   "source": [
    "browser.find_element(By.CSS_SELECTOR, \"body\").text"
   ]
  },
  {
   "cell_type": "code",
   "execution_count": 6,
   "id": "95733d4b",
   "metadata": {},
   "outputs": [],
   "source": [
    "browser.quit()"
   ]
  }
 ],
 "metadata": {
  "kernelspec": {
   "display_name": "Python 3",
   "language": "python",
   "name": "python3"
  },
  "language_info": {
   "codemirror_mode": {
    "name": "ipython",
    "version": 3
   },
   "file_extension": ".py",
   "mimetype": "text/x-python",
   "name": "python",
   "nbconvert_exporter": "python",
   "pygments_lexer": "ipython3",
   "version": "3.13.5"
  }
 },
 "nbformat": 4,
 "nbformat_minor": 5
}
